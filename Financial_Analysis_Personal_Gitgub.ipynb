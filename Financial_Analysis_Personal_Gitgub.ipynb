{
  "nbformat": 4,
  "nbformat_minor": 0,
  "metadata": {
    "colab": {
      "provenance": [],
      "authorship_tag": "ABX9TyMWL7mchdo32aVBGIMX9tR/"
    },
    "kernelspec": {
      "name": "python3",
      "display_name": "Python 3"
    },
    "language_info": {
      "name": "python"
    }
  },
  "cells": [
    {
      "cell_type": "code",
      "execution_count": null,
      "metadata": {
        "id": "Fy-EinVYJjcg"
      },
      "outputs": [],
      "source": [
        "#Importing required libraries\n",
        "import pandas as pd\n",
        "\n",
        "#Importing data into dataframe\n",
        "df = pd.read_excel('Budget.xlsx')\n",
        "\n",
        "#convert the price to a currency (int/float)\n",
        "df['Pricef']=pd.to_numeric(df[\"Price\"],errors = 'coerce') #can utilze errors 'raise' to identify where errors are or coerce to change them to null/Nan values\n",
        "\n",
        "df2=df.copy()\n",
        "df2.dropna(inplace=True)\n",
        "\n",
        "#Normalizing the data\n",
        "df2.loc[df2['Category']=='Misc', 'Category']='Miscellaneous'\n",
        "df2.loc[df2['Category']=='Baby', 'Category']='Child Expenses'\n",
        "df2.loc[df2['Category']=='Mortgage', 'Category']='Housing'\n",
        "\n",
        "#Creating a new columnn for the store name. Most of the infomation is the first word before the space.\n",
        "df2[\"Store_ID2\"]=df2['Expense Description'].str.extract(r'^([A-Za-z]+)')\n",
        "\n",
        "\n",
        "df_clean.copy()\n",
        "df_clean.rename(columns={'Store_ID2':\"Store_ID\"},inplace=True)\n",
        "df2.to_excel('Personal_Financials_Clean.xlsx', index=False)"
      ]
    }
  ]
}