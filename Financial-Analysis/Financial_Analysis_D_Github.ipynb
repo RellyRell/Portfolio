{
  "nbformat": 4,
  "nbformat_minor": 0,
  "metadata": {
    "colab": {
      "provenance": [],
      "authorship_tag": "ABX9TyM1JHR9n7/re8HNhNxOeAbk"
    },
    "kernelspec": {
      "name": "python3",
      "display_name": "Python 3"
    },
    "language_info": {
      "name": "python"
    }
  },
  "cells": [
    {
      "cell_type": "code",
      "execution_count": null,
      "metadata": {
        "id": "lYYye_PssET9"
      },
      "outputs": [],
      "source": [
        "#Importing required libraries\n",
        "import pandas as pd\n",
        "\n",
        "#Importing data into dataframe\n",
        "df = pd.read_excel('financial_data23-24-25.xlsx')\n",
        "\n",
        "#Objective: To determine top spending in each category\n",
        "df_merch = df[df['Category']=='Merchandise']\n",
        "\n",
        "#Creating a new columnn for the store name. Most of the infomation is the first word before the space.\n",
        "df_merch[\"Store_ID2\"]=df_merch['Description'].str.extract(r'^([A-Za-z]+)')\n",
        "\n",
        "#Normalizing the data for major categories\n",
        "#In the df, go to all rows where the 'Store_ID2' column is exactly 'C', and select the 'Store_ID2' column for those row I.e selecting the exact cells where the value is 'C'\n",
        "df_merch.loc[df_merch['Store_ID2']=='C','Store_ID2']='C.M.LIFE'\n",
        "df_merch.loc[df_merch['Store_ID2']=='AMZN','Store_ID2']='AMAZON'\n",
        "df_merch.loc[df_merch['Store_ID2']=='WAL','Store_ID2']='WALMART'\n",
        "df_merch.loc[df_merch['Store_ID2']=='BEST','Store_ID2']='BESTBUY'\n",
        "df_merch.loc[df_merch['Store_ID2']=='BESTBUYCOM','Store_ID2']='BESTBUY'\n",
        "\n",
        "df_clean=df_merch.copy()\n",
        "df_clean.drop(['Description','Store_ID'],axis=1,inplace=True)\n",
        "df_clean.rename(columns={'Store_ID2':\"Store_ID\"},inplace=True)\n",
        "\n",
        "df_clean.to_excel('CreditD_Financials_Clean.xlsx', index=False)"
      ]
    }
  ]
}